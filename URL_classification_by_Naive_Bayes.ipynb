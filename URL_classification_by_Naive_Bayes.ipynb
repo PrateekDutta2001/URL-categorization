{
  "nbformat": 4,
  "nbformat_minor": 0,
  "metadata": {
    "colab": {
      "name": "URL classification by Naive Bayes.ipynb",
      "provenance": []
    },
    "kernelspec": {
      "display_name": "Python 3",
      "name": "python3"
    }
  },
  "cells": [
    {
      "cell_type": "code",
      "metadata": {
        "colab": {
          "base_uri": "https://localhost:8080/"
        },
        "id": "Ud57C7FN0cHa",
        "outputId": "394da08a-6e0f-40ee-9359-23e7961de863"
      },
      "source": [
        "from google.colab import drive\n",
        "drive.mount('/gdrive')\n",
        "%cd /gdrive"
      ],
      "execution_count": null,
      "outputs": [
        {
          "output_type": "stream",
          "text": [
            "Mounted at /gdrive\n",
            "/gdrive\n"
          ],
          "name": "stdout"
        }
      ]
    },
    {
      "cell_type": "code",
      "metadata": {
        "colab": {
          "base_uri": "https://localhost:8080/"
        },
        "id": "wsqjwDCx2Oli",
        "outputId": "844c86d7-1931-4dbf-9fcd-68932cf83f7f"
      },
      "source": [
        "cd/gdrive/My Drive/BoltIoT/"
      ],
      "execution_count": null,
      "outputs": [
        {
          "output_type": "stream",
          "text": [
            "/gdrive/My Drive/BoltIoT\n"
          ],
          "name": "stdout"
        }
      ]
    },
    {
      "cell_type": "code",
      "metadata": {
        "colab": {
          "base_uri": "https://localhost:8080/"
        },
        "id": "OPS0BGh52hS4",
        "outputId": "919dc21d-5f42-47f3-b56a-0a35abdfa710"
      },
      "source": [
        "ls"
      ],
      "execution_count": null,
      "outputs": [
        {
          "output_type": "stream",
          "text": [
            " Meta.csv  'Prateek Dutta - Resume(N1).pdf'  'URL Classification.csv'\n"
          ],
          "name": "stdout"
        }
      ]
    },
    {
      "cell_type": "code",
      "metadata": {
        "colab": {
          "base_uri": "https://localhost:8080/"
        },
        "id": "hzcrHSy82j_2",
        "outputId": "d0b17201-112c-4f63-db0b-b2382361dc25"
      },
      "source": [
        "!pip install tldextract\n",
        "import tldextract"
      ],
      "execution_count": null,
      "outputs": [
        {
          "output_type": "stream",
          "text": [
            "Collecting tldextract\n",
            "\u001b[?25l  Downloading https://files.pythonhosted.org/packages/7e/62/b6acd3129c5615b9860e670df07fd55b76175b63e6b7f68282c7cad38e9e/tldextract-3.1.0-py2.py3-none-any.whl (87kB)\n",
            "\r\u001b[K     |███▊                            | 10kB 16.8MB/s eta 0:00:01\r\u001b[K     |███████▌                        | 20kB 12.6MB/s eta 0:00:01\r\u001b[K     |███████████▎                    | 30kB 9.4MB/s eta 0:00:01\r\u001b[K     |███████████████                 | 40kB 8.7MB/s eta 0:00:01\r\u001b[K     |██████████████████▉             | 51kB 5.2MB/s eta 0:00:01\r\u001b[K     |██████████████████████▋         | 61kB 5.8MB/s eta 0:00:01\r\u001b[K     |██████████████████████████▍     | 71kB 5.8MB/s eta 0:00:01\r\u001b[K     |██████████████████████████████▏ | 81kB 6.3MB/s eta 0:00:01\r\u001b[K     |████████████████████████████████| 92kB 4.0MB/s \n",
            "\u001b[?25hCollecting requests-file>=1.4\n",
            "  Downloading https://files.pythonhosted.org/packages/77/86/cdb5e8eaed90796aa83a6d9f75cfbd37af553c47a291cd47bc410ef9bdb2/requests_file-1.5.1-py2.py3-none-any.whl\n",
            "Requirement already satisfied: filelock>=3.0.8 in /usr/local/lib/python3.7/dist-packages (from tldextract) (3.0.12)\n",
            "Requirement already satisfied: idna in /usr/local/lib/python3.7/dist-packages (from tldextract) (2.10)\n",
            "Requirement already satisfied: requests>=2.1.0 in /usr/local/lib/python3.7/dist-packages (from tldextract) (2.23.0)\n",
            "Requirement already satisfied: six in /usr/local/lib/python3.7/dist-packages (from requests-file>=1.4->tldextract) (1.15.0)\n",
            "Requirement already satisfied: urllib3!=1.25.0,!=1.25.1,<1.26,>=1.21.1 in /usr/local/lib/python3.7/dist-packages (from requests>=2.1.0->tldextract) (1.24.3)\n",
            "Requirement already satisfied: certifi>=2017.4.17 in /usr/local/lib/python3.7/dist-packages (from requests>=2.1.0->tldextract) (2020.12.5)\n",
            "Requirement already satisfied: chardet<4,>=3.0.2 in /usr/local/lib/python3.7/dist-packages (from requests>=2.1.0->tldextract) (3.0.4)\n",
            "Installing collected packages: requests-file, tldextract\n",
            "Successfully installed requests-file-1.5.1 tldextract-3.1.0\n"
          ],
          "name": "stdout"
        }
      ]
    },
    {
      "cell_type": "code",
      "metadata": {
        "colab": {
          "base_uri": "https://localhost:8080/",
          "height": 204
        },
        "id": "YwF8ScXn3YW5",
        "outputId": "afaa0a07-0883-4d98-8ec1-66ad8724644f"
      },
      "source": [
        "import pandas as pd\n",
        "df = pd.read_csv('URL Classification.csv')\n",
        "df.head()"
      ],
      "execution_count": null,
      "outputs": [
        {
          "output_type": "execute_result",
          "data": {
            "text/html": [
              "<div>\n",
              "<style scoped>\n",
              "    .dataframe tbody tr th:only-of-type {\n",
              "        vertical-align: middle;\n",
              "    }\n",
              "\n",
              "    .dataframe tbody tr th {\n",
              "        vertical-align: top;\n",
              "    }\n",
              "\n",
              "    .dataframe thead th {\n",
              "        text-align: right;\n",
              "    }\n",
              "</style>\n",
              "<table border=\"1\" class=\"dataframe\">\n",
              "  <thead>\n",
              "    <tr style=\"text-align: right;\">\n",
              "      <th></th>\n",
              "      <th>1</th>\n",
              "      <th>http://www.liquidgeneration.com/</th>\n",
              "      <th>Adult</th>\n",
              "    </tr>\n",
              "  </thead>\n",
              "  <tbody>\n",
              "    <tr>\n",
              "      <th>0</th>\n",
              "      <td>2</td>\n",
              "      <td>http://www.onlineanime.org/</td>\n",
              "      <td>Adult</td>\n",
              "    </tr>\n",
              "    <tr>\n",
              "      <th>1</th>\n",
              "      <td>3</td>\n",
              "      <td>http://www.ceres.dti.ne.jp/~nekoi/senno/senfir...</td>\n",
              "      <td>Adult</td>\n",
              "    </tr>\n",
              "    <tr>\n",
              "      <th>2</th>\n",
              "      <td>4</td>\n",
              "      <td>http://www.galeon.com/kmh/</td>\n",
              "      <td>Adult</td>\n",
              "    </tr>\n",
              "    <tr>\n",
              "      <th>3</th>\n",
              "      <td>5</td>\n",
              "      <td>http://www.fanworkrecs.com/</td>\n",
              "      <td>Adult</td>\n",
              "    </tr>\n",
              "    <tr>\n",
              "      <th>4</th>\n",
              "      <td>6</td>\n",
              "      <td>http://www.animehouse.com/</td>\n",
              "      <td>Adult</td>\n",
              "    </tr>\n",
              "  </tbody>\n",
              "</table>\n",
              "</div>"
            ],
            "text/plain": [
              "   1                   http://www.liquidgeneration.com/  Adult\n",
              "0  2                        http://www.onlineanime.org/  Adult\n",
              "1  3  http://www.ceres.dti.ne.jp/~nekoi/senno/senfir...  Adult\n",
              "2  4                         http://www.galeon.com/kmh/  Adult\n",
              "3  5                        http://www.fanworkrecs.com/  Adult\n",
              "4  6                         http://www.animehouse.com/  Adult"
            ]
          },
          "metadata": {
            "tags": []
          },
          "execution_count": 6
        }
      ]
    },
    {
      "cell_type": "code",
      "metadata": {
        "id": "Tm66wl2f3-39"
      },
      "source": [
        "import pandas as pd\n",
        "import numpy as np\n",
        "from sklearn import linear_model\n",
        "from sklearn import metrics\n",
        "from sklearn.model_selection import train_test_split\n",
        "%matplotlib inline \n",
        "from sklearn.utils import shuffle\n",
        "import matplotlib.pyplot as plt\n",
        "from numpy import array\n",
        "from numpy import argmax\n",
        "from sklearn.preprocessing import LabelEncoder\n",
        "from sklearn.preprocessing import OneHotEncoder\n",
        "from sklearn.feature_extraction.text import TfidfVectorizer\n",
        "from sklearn.feature_extraction.text import TfidfTransformer\n",
        "from sklearn.naive_bayes import MultinomialNB\n",
        "from sklearn.feature_extraction.text import CountVectorizer\n",
        "from sklearn.feature_selection import chi2\n",
        "from sklearn import tree\n",
        "from sklearn.tree import DecisionTreeClassifier\n",
        "from keras.utils import to_categorical\n",
        "from keras.models import Sequential\n",
        "from keras.layers.core import Dense, Activation\n",
        "from keras.utils import np_utils\n",
        "import re\n",
        "from keras.preprocessing import sequence\n",
        "from keras.preprocessing.text import one_hot\n",
        "from keras.preprocessing.text import text_to_word_sequence\n",
        "from sklearn.svm import LinearSVC"
      ],
      "execution_count": null,
      "outputs": []
    },
    {
      "cell_type": "code",
      "metadata": {
        "colab": {
          "base_uri": "https://localhost:8080/",
          "height": 204
        },
        "id": "4tITDFY14IEr",
        "outputId": "c56a8aee-948b-4ee9-e035-8b358b04e7af"
      },
      "source": [
        "names=['URL','Category']\n",
        "df=pd.read_csv('URL Classification.csv',names=names, na_filter=False)\n",
        "df1 = df[1:2001]\n",
        "df2 = df[50000:52000]\n",
        "df3 = df[520000:522000]\n",
        "df4 =df[535300:537300]\n",
        "df5 = df[650000:652000]\n",
        "df6= df[710000:712000]\n",
        "df7=  df[764200:766200]\n",
        "df8=  df[793080:795080]\n",
        "df9=  df[839730:841730]\n",
        "df10=  df[850000:852000]\n",
        "df11=  df[955250:957250]\n",
        "df12=  df[1013000:1015000]\n",
        "df13=  df[1143000:1145000]\n",
        "df14=  df[1293000:1295000]\n",
        "df15=  df[1492000:1494000]\n",
        "#df6 = df[77000:1562978]\n",
        "dt=pd.concat([df1,df2,df3,df4,df5,df6,df7,df8,df9,df10,df11,df12,df13,df14,df15], axis=0)\n",
        "df.drop(df.index[1:2000],inplace= True)\n",
        "df.drop(df.index[50000:52000],inplace= True)\n",
        "df.drop(df.index[520000:522000],inplace= True)\n",
        "df.drop(df.index[535300:537300],inplace= True)\n",
        "df.drop(df.index[650000:652000],inplace= True)\n",
        "df.drop(df.index[710000:712000],inplace= True)\n",
        "df.drop(df.index[764200:766200],inplace= True)\n",
        "df.drop(df.index[793080:795080],inplace= True)\n",
        "df.drop(df.index[839730:841730],inplace= True)\n",
        "df.drop(df.index[850000:852000],inplace= True)\n",
        "df.drop(df.index[955250:957250],inplace= True)\n",
        "df.drop(df.index[1013000:1015000],inplace= True)\n",
        "df.drop(df.index[1143000:1145000],inplace= True)\n",
        "df.drop(df.index[1293000:1295000],inplace= True)\n",
        "df.drop(df.index[1492000:1494000],inplace= True)\n",
        "df.tail()"
      ],
      "execution_count": null,
      "outputs": [
        {
          "output_type": "execute_result",
          "data": {
            "text/html": [
              "<div>\n",
              "<style scoped>\n",
              "    .dataframe tbody tr th:only-of-type {\n",
              "        vertical-align: middle;\n",
              "    }\n",
              "\n",
              "    .dataframe tbody tr th {\n",
              "        vertical-align: top;\n",
              "    }\n",
              "\n",
              "    .dataframe thead th {\n",
              "        text-align: right;\n",
              "    }\n",
              "</style>\n",
              "<table border=\"1\" class=\"dataframe\">\n",
              "  <thead>\n",
              "    <tr style=\"text-align: right;\">\n",
              "      <th></th>\n",
              "      <th>URL</th>\n",
              "      <th>Category</th>\n",
              "    </tr>\n",
              "  </thead>\n",
              "  <tbody>\n",
              "    <tr>\n",
              "      <th>1562974</th>\n",
              "      <td>http://www.maxpreps.com/</td>\n",
              "      <td>Sports</td>\n",
              "    </tr>\n",
              "    <tr>\n",
              "      <th>1562975</th>\n",
              "      <td>http://www.myscore.com/</td>\n",
              "      <td>Sports</td>\n",
              "    </tr>\n",
              "    <tr>\n",
              "      <th>1562976</th>\n",
              "      <td>http://sportsillustrated.cnn.com/highschool</td>\n",
              "      <td>Sports</td>\n",
              "    </tr>\n",
              "    <tr>\n",
              "      <th>1562977</th>\n",
              "      <td>http://rss.cnn.com/rss/si_highschool?format=xml</td>\n",
              "      <td>Sports</td>\n",
              "    </tr>\n",
              "    <tr>\n",
              "      <th>1562978</th>\n",
              "      <td>http://www.usatoday.com/sports/preps/</td>\n",
              "      <td>Sports</td>\n",
              "    </tr>\n",
              "  </tbody>\n",
              "</table>\n",
              "</div>"
            ],
            "text/plain": [
              "                                                     URL Category\n",
              "1562974                         http://www.maxpreps.com/   Sports\n",
              "1562975                          http://www.myscore.com/   Sports\n",
              "1562976      http://sportsillustrated.cnn.com/highschool   Sports\n",
              "1562977  http://rss.cnn.com/rss/si_highschool?format=xml   Sports\n",
              "1562978            http://www.usatoday.com/sports/preps/   Sports"
            ]
          },
          "metadata": {
            "tags": []
          },
          "execution_count": 8
        }
      ]
    },
    {
      "cell_type": "code",
      "metadata": {
        "colab": {
          "base_uri": "https://localhost:8080/",
          "height": 395
        },
        "id": "1E9E0FYc4c--",
        "outputId": "4d562862-d79e-403c-c160-d7ced2bbff07"
      },
      "source": [
        "df.Category.value_counts().plot(figsize=(12,5),kind='bar',color='green');\n",
        "plt.xlabel('Category')\n",
        "plt.ylabel('Total Number Of Individual Category for Training')"
      ],
      "execution_count": null,
      "outputs": [
        {
          "output_type": "execute_result",
          "data": {
            "text/plain": [
              "Text(0, 0.5, 'Total Number Of Individual Category for Training')"
            ]
          },
          "metadata": {
            "tags": []
          },
          "execution_count": 9
        },
        {
          "output_type": "display_data",
          "data": {
            "image/png": "[encoded data removed]",
            "text/plain": [
              "<Figure size 864x360 with 1 Axes>"
            ]
          },
          "metadata": {
            "tags": [],
            "needs_background": "light"
          }
        }
      ]
    },
    {
      "cell_type": "code",
      "metadata": {
        "colab": {
          "base_uri": "https://localhost:8080/",
          "height": 395
        },
        "id": "TpUh0HNV4kUV",
        "outputId": "0587ce02-4211-4e61-e78b-e0b4d209e227"
      },
      "source": [
        "dt.Category.value_counts().plot(figsize=(12,5),kind='bar',color='green');\n",
        "plt.xlabel('Category')\n",
        "plt.ylabel('Total Number Of Individual Category for Testing')"
      ],
      "execution_count": null,
      "outputs": [
        {
          "output_type": "execute_result",
          "data": {
            "text/plain": [
              "Text(0, 0.5, 'Total Number Of Individual Category for Testing')"
            ]
          },
          "metadata": {
            "tags": []
          },
          "execution_count": 10
        },
        {
          "output_type": "display_data",
          "data": {
            "image/png": "[encoded data removed]",
            "text/plain": [
              "<Figure size 864x360 with 1 Axes>"
            ]
          },
          "metadata": {
            "tags": [],
            "needs_background": "light"
          }
        }
      ]
    },
    {
      "cell_type": "code",
      "metadata": {
        "colab": {
          "base_uri": "https://localhost:8080/"
        },
        "id": "KLFCh5GO4k6N",
        "outputId": "45463559-51a1-4843-8424-39c12047266c"
      },
      "source": [
        "X_train=df['URL']\n",
        "y_train=df['Category']\n",
        "#print(X_train)\n",
        "X_train.shape"
      ],
      "execution_count": null,
      "outputs": [
        {
          "output_type": "execute_result",
          "data": {
            "text/plain": [
              "(1532979,)"
            ]
          },
          "metadata": {
            "tags": []
          },
          "execution_count": 11
        }
      ]
    },
    {
      "cell_type": "code",
      "metadata": {
        "colab": {
          "base_uri": "https://localhost:8080/"
        },
        "id": "2xwNcSWR4kqV",
        "outputId": "01c9ee0f-7408-4d53-c4f8-246d7314b9ab"
      },
      "source": [
        "X_test=dt['URL']\n",
        "y_test=dt['Category']\n",
        "#print(X_test)\n",
        "X_test.shape"
      ],
      "execution_count": null,
      "outputs": [
        {
          "output_type": "execute_result",
          "data": {
            "text/plain": [
              "(30000,)"
            ]
          },
          "metadata": {
            "tags": []
          },
          "execution_count": 12
        }
      ]
    },
    {
      "cell_type": "code",
      "metadata": {
        "id": "HPZoCaK95yQU"
      },
      "source": [
        "from sklearn.pipeline import Pipeline\n",
        "text_clf = Pipeline([('vect', CountVectorizer()), ('tfidf', TfidfTransformer()), ('clf', MultinomialNB())])\n",
        "text_clf = text_clf.fit(X_train, y_train)"
      ],
      "execution_count": null,
      "outputs": []
    },
    {
      "cell_type": "code",
      "metadata": {
        "id": "K8_GMfYh6fnQ"
      },
      "source": [
        "from sklearn.model_selection import RandomizedSearchCV\n",
        "n_iter_search = 5\n",
        "parameters = {'vect__ngram_range': [(1, 1), (1, 2)], 'tfidf__use_idf': (True, False), 'clf__alpha': (1e-2, 1e-3)}\n",
        "gs_clf = RandomizedSearchCV(text_clf, parameters, n_iter = n_iter_search)\n",
        "gs_clf = gs_clf.fit(X_train, y_train)"
      ],
      "execution_count": null,
      "outputs": []
    },
    {
      "cell_type": "code",
      "metadata": {
        "colab": {
          "base_uri": "https://localhost:8080/"
        },
        "id": "b5pbdXan55mo",
        "outputId": "f3f19184-0876-45d3-8a24-991dc5d0a2bd"
      },
      "source": [
        "from sklearn.metrics import precision_recall_fscore_support\n",
        "from sklearn.metrics import confusion_matrix\n",
        "#grid_mean_scores = [result.mean_validation_score for result in gs_clf.grid_scores_]\n",
        "#print(grid_mean_scores)\n",
        "y_pred=gs_clf.predict(X_test)\n",
        "precision_recall_fscore_support(y_test, y_pred, average='weighted')"
      ],
      "execution_count": null,
      "outputs": [
        {
          "output_type": "execute_result",
          "data": {
            "text/plain": [
              "(0.8859315528951907, 0.8459333333333333, 0.834003526296982, None)"
            ]
          },
          "metadata": {
            "tags": []
          },
          "execution_count": 15
        }
      ]
    },
    {
      "cell_type": "code",
      "metadata": {
        "colab": {
          "base_uri": "https://localhost:8080/"
        },
        "id": "sQ6FD28F6WvW",
        "outputId": "8864d379-bccd-46e4-9e40-a068d54b7886"
      },
      "source": [
        "y_pred=gs_clf.predict(X_test)\n",
        "from sklearn.metrics import classification_report\n",
        "print(classification_report(y_test, y_pred))"
      ],
      "execution_count": null,
      "outputs": [
        {
          "output_type": "stream",
          "text": [
            "              precision    recall  f1-score   support\n",
            "\n",
            "       Adult       0.98      0.17      0.29      2000\n",
            "        Arts       0.49      0.91      0.63      2000\n",
            "    Business       0.72      1.00      0.83      2000\n",
            "   Computers       0.91      0.95      0.93      2000\n",
            "       Games       0.96      0.93      0.94      2000\n",
            "      Health       0.99      0.95      0.97      2000\n",
            "        Home       0.98      0.87      0.92      2000\n",
            "        Kids       0.93      0.64      0.75      2000\n",
            "        News       1.00      0.56      0.72      2000\n",
            "  Recreation       0.92      0.98      0.95      2000\n",
            "   Reference       0.77      0.91      0.83      2000\n",
            "     Science       0.90      0.95      0.92      2000\n",
            "    Shopping       0.97      0.97      0.97      2000\n",
            "     Society       0.81      1.00      0.89      2000\n",
            "      Sports       0.97      0.92      0.95      2000\n",
            "\n",
            "    accuracy                           0.85     30000\n",
            "   macro avg       0.89      0.85      0.83     30000\n",
            "weighted avg       0.89      0.85      0.83     30000\n",
            "\n"
          ],
          "name": "stdout"
        }
      ]
    },
    {
      "cell_type": "code",
      "metadata": {
        "colab": {
          "base_uri": "https://localhost:8080/"
        },
        "id": "XweEOkQx6Wmv",
        "outputId": "b591a954-b016-4bee-c640-05b9c3e4a07c"
      },
      "source": [
        "print(classification_report(y_test, y_pred, digits=4))"
      ],
      "execution_count": null,
      "outputs": [
        {
          "output_type": "stream",
          "text": [
            "              precision    recall  f1-score   support\n",
            "\n",
            "       Adult     0.9802    0.1730    0.2941      2000\n",
            "        Arts     0.4888    0.9055    0.6349      2000\n",
            "    Business     0.7165    0.9960    0.8335      2000\n",
            "   Computers     0.9097    0.9475    0.9282      2000\n",
            "       Games     0.9636    0.9265    0.9447      2000\n",
            "      Health     0.9870    0.9525    0.9695      2000\n",
            "        Home     0.9774    0.8660    0.9183      2000\n",
            "        Kids     0.9271    0.6355    0.7541      2000\n",
            "        News     0.9982    0.5585    0.7163      2000\n",
            "  Recreation     0.9175    0.9845    0.9498      2000\n",
            "   Reference     0.7735    0.9050    0.8341      2000\n",
            "     Science     0.8996    0.9495    0.9239      2000\n",
            "    Shopping     0.9725    0.9715    0.9720      2000\n",
            "     Society     0.8057    0.9955    0.8906      2000\n",
            "      Sports     0.9715    0.9220    0.9461      2000\n",
            "\n",
            "    accuracy                         0.8459     30000\n",
            "   macro avg     0.8859    0.8459    0.8340     30000\n",
            "weighted avg     0.8859    0.8459    0.8340     30000\n",
            "\n"
          ],
          "name": "stdout"
        }
      ]
    },
    {
      "cell_type": "code",
      "metadata": {
        "colab": {
          "base_uri": "https://localhost:8080/",
          "height": 880
        },
        "id": "PJrOMb-c7ZCI",
        "outputId": "f505c298-d619-46a5-f311-fc3d14288db9"
      },
      "source": [
        "import seaborn as sn\n",
        "import pandas as pd\n",
        "import matplotlib.pyplot as plt\n",
        "import numpy as np\n",
        "%matplotlib inline\n",
        "array = confusion_matrix(y_test, y_pred)\n",
        "cm=np.array(array)\n",
        "cm = cm.astype('float') / cm.sum(axis=1)[:, np.newaxis]\n",
        "df_cm = pd.DataFrame(cm, index = [i for i in \"0123456789ABCDE\"],\n",
        "                  columns = [i for i in \"0123456789ABCDE\"])\n",
        "plt.figure(figsize = (20,15))\n",
        "sn.heatmap(df_cm, annot=True)"
      ],
      "execution_count": null,
      "outputs": [
        {
          "output_type": "execute_result",
          "data": {
            "text/plain": [
              "<matplotlib.axes._subplots.AxesSubplot at 0x7f042fc993d0>"
            ]
          },
          "metadata": {
            "tags": []
          },
          "execution_count": 18
        },
        {
          "output_type": "display_data",
          "data": {
            "image/png": "[encoded data removed]",
            "text/plain": [
              "<Figure size 1440x1080 with 2 Axes>"
            ]
          },
          "metadata": {
            "tags": [],
            "needs_background": "light"
          }
        }
      ]
    },
    {
      "cell_type": "code",
      "metadata": {
        "colab": {
          "base_uri": "https://localhost:8080/"
        },
        "id": "Hs599A7w7ZIc",
        "outputId": "d3d863aa-d1f6-4952-a930-d058512cb784"
      },
      "source": [
        "print('Naive Bayes Train Accuracy = ',metrics.accuracy_score(y_train,gs_clf.predict(X_train)))\n",
        "print('Naive Bayes Test Accuracy = ',metrics.accuracy_score(y_test,gs_clf.predict(X_test)))"
      ],
      "execution_count": null,
      "outputs": [
        {
          "output_type": "stream",
          "text": [
            "Naive Bayes Train Accuracy =  0.9503783156846898\n",
            "Naive Bayes Test Accuracy =  0.8459333333333333\n"
          ],
          "name": "stdout"
        }
      ]
    },
    {
      "cell_type": "code",
      "metadata": {
        "colab": {
          "base_uri": "https://localhost:8080/"
        },
        "id": "WL52Ri2U7Y4Q",
        "outputId": "5c56b0e9-fb89-4aa1-d12e-17387828591a"
      },
      "source": [
        "print(gs_clf.predict(['http://www.ola.com/']))\n",
        "print(gs_clf.predict(['http://www.mysports.com/']))"
      ],
      "execution_count": null,
      "outputs": [
        {
          "output_type": "stream",
          "text": [
            "['Business']\n",
            "['Business']\n"
          ],
          "name": "stdout"
        }
      ]
    },
    {
      "cell_type": "code",
      "metadata": {
        "id": "G5g-4KB8_YJN"
      },
      "source": [
        "import numpy as np"
      ],
      "execution_count": null,
      "outputs": []
    },
    {
      "cell_type": "code",
      "metadata": {
        "colab": {
          "base_uri": "https://localhost:8080/"
        },
        "id": "U822VEL8vhNw",
        "outputId": "d51a6b28-af27-4850-98ad-32f57b207750"
      },
      "source": [
        "a= np.array([1,2,3,4,5])\n",
        "print (a)"
      ],
      "execution_count": null,
      "outputs": [
        {
          "output_type": "stream",
          "text": [
            "[1 2 3 4 5]\n"
          ],
          "name": "stdout"
        }
      ]
    },
    {
      "cell_type": "code",
      "metadata": {
        "colab": {
          "base_uri": "https://localhost:8080/"
        },
        "id": "7X8zKzL1vyi2",
        "outputId": "5656993e-918e-41a4-daad-8bcf1d953069"
      },
      "source": [
        "dt=np.dtype([('age',np.int8)])\n",
        "a=np.array([(10,),(20,),(30,)],dtype=dt)\n",
        "print(a['age'])"
      ],
      "execution_count": null,
      "outputs": [
        {
          "output_type": "stream",
          "text": [
            "[10 20 30]\n"
          ],
          "name": "stdout"
        }
      ]
    }
  ]
}